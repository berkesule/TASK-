{
 "cells": [
  {
   "cell_type": "code",
   "execution_count": 6,
   "metadata": {},
   "outputs": [],
   "source": [
    "import gradio as gr\n",
    "import json\n",
    "import os\n",
    "# JSON dosyasını oku\n",
    "def load_json(json_path):\n",
    "    with open(json_path, \"r\", encoding=\"utf-8\") as file:\n",
    "        return json.load(file)\n",
    "\n",
    "# JSON dosyasını güncelle\n",
    "def save_json(json_path, data):\n",
    "    with open(json_path, \"w\", encoding=\"utf-8\") as file:\n",
    "        json.dump(data, file, ensure_ascii=False, indent=4)\n"
   ]
  },
  {
   "cell_type": "code",
   "execution_count": 7,
   "metadata": {},
   "outputs": [],
   "source": [
    "JSON_PATH = \"output.json\"\n",
    "IMAGE_FOLDER = \"images\"\n",
    "\n",
    "# JSON verisini yükle\n",
    "data = load_json(JSON_PATH)\n",
    "current_index = 0\n",
    "\n",
    "# Mevcut resmi ve açıklamaları getir\n",
    "# Mevcut resmi ve açıklamaları getir\n",
    "# Mevcut resmi ve açıklamaları getir\n",
    "def get_current_data():\n",
    "    global current_index\n",
    "    item = data[current_index]\n",
    "    image_path = os.path.join(IMAGE_FOLDER, item[\"image\"])\n",
    "    counter_text = f\"{current_index + 1}/{len(data)}\"\n",
    "    return image_path, item[\"prompt\"], item[\"chosen\"], item[\"rejected\"], counter_text\n",
    "\n",
    "# Kullanıcının girdisini kaydet\n",
    "def update_chosen(user_input):\n",
    "    global current_index\n",
    "    data[current_index][\"chosen\"] = user_input\n",
    "    save_json(JSON_PATH, data)\n",
    "    return \"Yanıt kaydedildi!\"\n",
    "\n",
    "# Resmi değiştir (ileri/geri)\n",
    "def change_image(direction):\n",
    "    global current_index\n",
    "    if direction == \"next\" and current_index < len(data) - 1:\n",
    "        current_index += 1\n",
    "    elif direction == \"prev\" and current_index > 0:\n",
    "        current_index -= 1\n",
    "    return get_current_data()\n",
    "\n",
    "# Resmi sil\n",
    "def delete_image():\n",
    "    global current_index\n",
    "    item = data[current_index]\n",
    "    image_path = os.path.join(IMAGE_FOLDER, item[\"image\"])\n",
    "    \n",
    "    # Resmi klasörden sil\n",
    "    if os.path.exists(image_path):\n",
    "        os.remove(image_path)\n",
    "    \n",
    "    # JSON verisinden sil\n",
    "    del data[current_index]\n",
    "    save_json(JSON_PATH, data)\n",
    "    \n",
    "    # Eğer silinen son resimse önceki resme dön\n",
    "    if current_index >= len(data):\n",
    "        current_index -= 1\n",
    "    \n",
    "    # Veri kalmadıysa boş değerler döndür\n",
    "    if len(data) == 0:\n",
    "        return \"Tüm veriler silindi.\", \"\", \"\", \"\", \"0/0\"\n",
    "    \n",
    "    return get_current_data()\n",
    "\n",
    "# Gradio arayüzü\n",
    "def interface():\n",
    "    with gr.Blocks() as app:\n",
    "        with gr.Row():\n",
    "            image = gr.Image(height=250, width=250)\n",
    "        with gr.Row():\n",
    "            prompt = gr.Textbox(label=\"prompt\")\n",
    "        with gr.Row():\n",
    "            chosen = gr.Textbox(label=\"chosen\")\n",
    "            rejected = gr.Textbox(label=\"rejected\")\n",
    "\n",
    "        with gr.Row():\n",
    "            user_input = gr.Textbox(label=\"Yanıtını Gir\")\n",
    "            with gr.Column(scale=0.1):\n",
    "                 counter = gr.Label(label=\"Sayaç\")  # Sayaç üstte yer alıyor.\n",
    "        with gr.Row():\n",
    "            submit_btn = gr.Button(\"Kaydet\")\n",
    "            prev_btn = gr.Button(\"Önceki\")\n",
    "            next_btn = gr.Button(\"Sonraki\")\n",
    "            delete_btn = gr.Button(\"Resmi Sil\")\n",
    "        \n",
    "        # Başlangıç verileri\n",
    "        image_path, prompt_text, chosen_text, rejected_text, counter_text = get_current_data()\n",
    "        image.value = image_path\n",
    "        prompt.value = prompt_text\n",
    "        chosen.value = chosen_text\n",
    "        rejected.value = rejected_text\n",
    "        counter.value = counter_text\n",
    "        prev_text = gr.Text(\"prev\", visible=False)\n",
    "        next_text = gr.Text(\"next\", visible=False)\n",
    "        # Buton işlevleri\n",
    "        submit_btn.click(update_chosen, inputs=[user_input], outputs=[])\n",
    "        prev_btn.click(change_image, inputs=[prev_text], outputs=[image, prompt, chosen, rejected, counter])\n",
    "        next_btn.click(change_image, inputs=[next_text], outputs=[image, prompt, chosen, rejected, counter])\n",
    "        delete_btn.click(delete_image, inputs=[], outputs=[image, prompt, chosen, rejected, counter])\n",
    "    \n",
    "    return app"
   ]
  },
  {
   "cell_type": "code",
   "execution_count": 8,
   "metadata": {},
   "outputs": [
    {
     "name": "stderr",
     "output_type": "stream",
     "text": [
      "c:\\Users\\Berke\\AppData\\Local\\Programs\\Python\\Python311\\Lib\\site-packages\\gradio\\layouts\\column.py:55: UserWarning: 'scale' value should be an integer. Using 0.1 will cause issues.\n",
      "  warnings.warn(\n"
     ]
    },
    {
     "name": "stdout",
     "output_type": "stream",
     "text": [
      "Running on local URL:  http://127.0.0.1:7861\n",
      "\n",
      "To create a public link, set `share=True` in `launch()`.\n"
     ]
    },
    {
     "data": {
      "text/html": [
       "<div><iframe src=\"http://127.0.0.1:7861/\" width=\"100%\" height=\"500\" allow=\"autoplay; camera; microphone; clipboard-read; clipboard-write;\" frameborder=\"0\" allowfullscreen></iframe></div>"
      ],
      "text/plain": [
       "<IPython.core.display.HTML object>"
      ]
     },
     "metadata": {},
     "output_type": "display_data"
    },
    {
     "data": {
      "text/plain": []
     },
     "execution_count": 8,
     "metadata": {},
     "output_type": "execute_result"
    }
   ],
   "source": [
    "app = interface()\n",
    "app.launch()"
   ]
  },
  {
   "cell_type": "code",
   "execution_count": null,
   "metadata": {},
   "outputs": [],
   "source": []
  }
 ],
 "metadata": {
  "kernelspec": {
   "display_name": "Python 3",
   "language": "python",
   "name": "python3"
  },
  "language_info": {
   "codemirror_mode": {
    "name": "ipython",
    "version": 3
   },
   "file_extension": ".py",
   "mimetype": "text/x-python",
   "name": "python",
   "nbconvert_exporter": "python",
   "pygments_lexer": "ipython3",
   "version": "3.11.6"
  }
 },
 "nbformat": 4,
 "nbformat_minor": 2
}
